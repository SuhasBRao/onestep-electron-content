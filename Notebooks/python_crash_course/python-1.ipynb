{
 "metadata": {
  "language_info": {
   "codemirror_mode": {
    "name": "ipython",
    "version": 3
   },
   "file_extension": ".py",
   "mimetype": "text/x-python",
   "name": "python",
   "nbconvert_exporter": "python",
   "pygments_lexer": "ipython3",
   "version": "3.8.3-final"
  },
  "orig_nbformat": 2,
  "kernelspec": {
   "name": "python3",
   "display_name": "Python 3.8.3 64-bit ('base': conda)",
   "metadata": {
    "interpreter": {
     "hash": "7383003b210fdacca9bf7683d9d1d561f4a72c77adad40daede406a89507eb7d"
    }
   }
  }
 },
 "nbformat": 4,
 "nbformat_minor": 2,
 "cells": [
  {
   "cell_type": "markdown",
   "metadata": {},
   "source": [
    "# Python Crash Course- Part 1\n",
    "---\n",
    "\n",
    "In this tutorial, we are going to cover some basic concepts of python that you will be needing throughout this course. This will help you brush up a few necessary concepts so that you can begin your Machine Learning journey.\n",
    "\n",
    "Note: This crash course is just meant as a revision for you if you already know Python. In case you don't have any experience with Python before this, you can go back a step and learn Python free of cost from [here](https://www.youtube.com/watch?v=rfscVS0vtbw).\n",
    "\n",
    "In this notebook, we will be covering the following topics.\n",
    "* Built-in data types-\n",
    "    * Integers and floats\n",
    "    * Strings\n",
    "    * Lists\n",
    "    * Dictionaries\n",
    "    * Booleans\n",
    "    * Tuples\n",
    "    * Sets\n",
    "\n",
    "\n",
    "But before we move on to these concepts, first let us understand the most basic part of learning a programming language- Declaring a variable and assigning a value to it. \n",
    "\n",
    "The following syntax describes how you can declare a variable and assign a value to it.\n",
    "> variable_name = value, where,\n",
    "* variable_name -> The name assigned to the variable. Check [this documentation](https://visualgit.readthedocs.io/en/latest/pages/naming_convention.html) on variable naming convention.\n",
    "* value -> One of the several built-in and external data types"
   ]
  },
  {
   "cell_type": "code",
   "execution_count": 1,
   "metadata": {},
   "outputs": [],
   "source": [
    "# declaring a variable\n",
    "var = 34\n",
    "var2 = 'example'"
   ]
  },
  {
   "cell_type": "code",
   "execution_count": 2,
   "metadata": {
    "tags": []
   },
   "outputs": [
    {
     "output_type": "stream",
     "name": "stdout",
     "text": [
      "5\n"
     ]
    }
   ],
   "source": [
    "# declaring x\n",
    "x = 2\n",
    "\n",
    "# declaring y\n",
    "y = 3\n",
    "\n",
    "# declaring z as sum of x and y\n",
    "z = x + y\n",
    "\n",
    "# printing z\n",
    "print(z)"
   ]
  },
  {
   "cell_type": "markdown",
   "metadata": {},
   "source": [
    "Now, let us have a look at the built-in data types in Python.\n",
    "\n",
    "## Python Data types\n",
    "---\n",
    "\n",
    "The following are the data types built-into python. We will discuss each of these in detail.\n",
    "\n",
    "| Category          | Data Type                     |\n",
    "|-------------------|-------------------------------|\n",
    "| Numeric type      | int, float, complex           |\n",
    "| Text type         | str                           |\n",
    "| Sequence type     | list, tuple, range            |\n",
    "| Mapping type      | dict                          |\n",
    "| Set type          | set, frozenset                |\n",
    "| Boolean type      | bool                          |\n",
    "| Binary type       | bytes, bytesarray, memoryview |\n",
    "\n",
    "### A. Numeric Data Types\n",
    "---\n",
    "__1. int__ - The int data type is used to denote integer values."
   ]
  },
  {
   "cell_type": "code",
   "execution_count": 3,
   "metadata": {
    "tags": []
   },
   "outputs": [
    {
     "output_type": "stream",
     "name": "stdout",
     "text": [
      "10\n"
     ]
    }
   ],
   "source": [
    "# declaring an integer variable a\n",
    "num = 10\n",
    "\n",
    "# printing the value of variable a\n",
    "print(num) "
   ]
  },
  {
   "cell_type": "code",
   "execution_count": 4,
   "metadata": {
    "tags": []
   },
   "outputs": [
    {
     "output_type": "stream",
     "name": "stdout",
     "text": [
      "<class 'int'>\n"
     ]
    }
   ],
   "source": [
    "# printing the data type of variable a\n",
    "print(type(num))"
   ]
  },
  {
   "cell_type": "markdown",
   "metadata": {},
   "source": [
    "__2. float__ - Denotes floating point numbers, i.e., real numbers with decimal points."
   ]
  },
  {
   "cell_type": "code",
   "execution_count": 5,
   "metadata": {
    "tags": []
   },
   "outputs": [
    {
     "output_type": "stream",
     "name": "stdout",
     "text": [
      "10.65\n"
     ]
    }
   ],
   "source": [
    "# declaring an integer variable a\n",
    "num = 10.65\n",
    "\n",
    "# printing the value of variable a\n",
    "print(num)"
   ]
  },
  {
   "cell_type": "code",
   "execution_count": 6,
   "metadata": {
    "tags": []
   },
   "outputs": [
    {
     "output_type": "stream",
     "name": "stdout",
     "text": [
      "<class 'float'>\n"
     ]
    }
   ],
   "source": [
    "# printing the data type of variable a\n",
    "print(type(num))"
   ]
  },
  {
   "cell_type": "markdown",
   "metadata": {},
   "source": [
    "__3. complex__ - Denotes complex numbers. The syntax to assign a complex variable is as follows:\n",
    "> var = complex(real, imag), where,\n",
    "* real -> Real part of the complex number\n",
    "* imag -> Imaginary part of the complex number"
   ]
  },
  {
   "cell_type": "code",
   "execution_count": 7,
   "metadata": {
    "tags": []
   },
   "outputs": [
    {
     "output_type": "stream",
     "name": "stdout",
     "text": [
      "(1.2+3j)\n"
     ]
    }
   ],
   "source": [
    "# declaring a complex number\n",
    "num_complex = complex(real=1.2, imag=3)\n",
    "\n",
    "# printing the complex number\n",
    "print(num_complex)"
   ]
  },
  {
   "cell_type": "code",
   "execution_count": 8,
   "metadata": {
    "tags": []
   },
   "outputs": [
    {
     "output_type": "stream",
     "name": "stdout",
     "text": [
      "<class 'complex'>\n"
     ]
    }
   ],
   "source": [
    "# printing the data type of the complex variable\n",
    "print(type(num_complex))"
   ]
  },
  {
   "cell_type": "markdown",
   "metadata": {},
   "source": [
    "### B. Strings (Text Data Types)\n",
    "---\n",
    "__str__ - str denotes the string data type, i.e., a form of text data type in Python. Strings are characters or a sequence of characters as per the Unicode convention.  \n",
    "\n",
    "__NOTE__ - Strings are immutable. This means that once a string is declared and assigned a value, then at that point, string item reassignment is not possible, and will result in an error. In order to change the value of a string, you will have to declare a new string with the same variable name.  \n",
    "\n",
    "__(a). Declaring a string__ - Strings can be declared using single or double quotes. Let's see with the help of examples.  "
   ]
  },
  {
   "cell_type": "code",
   "execution_count": 9,
   "metadata": {
    "tags": []
   },
   "outputs": [
    {
     "output_type": "stream",
     "name": "stdout",
     "text": [
      "This is an example string\n"
     ]
    }
   ],
   "source": [
    "# declaring a string [single quotes]\n",
    "str1 = 'This is an example string'\n",
    "print(str1)"
   ]
  },
  {
   "cell_type": "code",
   "execution_count": 10,
   "metadata": {
    "tags": []
   },
   "outputs": [
    {
     "output_type": "stream",
     "name": "stdout",
     "text": [
      "This is another example string\n"
     ]
    }
   ],
   "source": [
    "# declaring a string [double quotes]\n",
    "str2 = \"This is another example string\"\n",
    "print(str2)"
   ]
  },
  {
   "cell_type": "code",
   "execution_count": 11,
   "metadata": {
    "tags": []
   },
   "outputs": [
    {
     "output_type": "stream",
     "name": "stdout",
     "text": [
      "<class 'str'>\n"
     ]
    }
   ],
   "source": [
    "# printing the data type of str1 string\n",
    "print(type(str1)) "
   ]
  },
  {
   "cell_type": "markdown",
   "metadata": {},
   "source": [
    "__(b). Length of string__ - You can check the character length of a string using the len() method. The following is the syntax-\n",
    "> len(string)"
   ]
  },
  {
   "cell_type": "code",
   "execution_count": 12,
   "metadata": {
    "tags": []
   },
   "outputs": [
    {
     "output_type": "stream",
     "name": "stdout",
     "text": [
      "30\n"
     ]
    }
   ],
   "source": [
    "# printing lenght of str2\n",
    "print(len(str2))"
   ]
  },
  {
   "cell_type": "markdown",
   "metadata": {},
   "source": [
    "__(c). Slicing__ - Slicing, as the word suggests, means obtaining a slice (part) of a string. The following is the syntax of how to perform slicing operation on a string-\n",
    "> character = string\\[index], where,\n",
    "* index -> Index of the character that you want as a slice\n",
    "\n",
    "and\n",
    "\n",
    "> sub_string = string\\[start=0 : stop=len(string)], where,\n",
    "* start -> Starting index of the slice; default = 0\n",
    "* stop -> Last index of the slice that you want from the original string; default = lenght of the string\n",
    "\n",
    "One thing to be noted is that the data type you obtain after slicing a string is also __'str'__.\n"
   ]
  },
  {
   "cell_type": "code",
   "execution_count": 13,
   "metadata": {
    "tags": []
   },
   "outputs": [
    {
     "output_type": "stream",
     "name": "stdout",
     "text": [
      "Y\n"
     ]
    }
   ],
   "source": [
    "str3 = 'You are learning Python'\n",
    "\n",
    "# getting first character of the string (starts with index value 0)\n",
    "print(str3[0])"
   ]
  },
  {
   "cell_type": "code",
   "execution_count": 14,
   "metadata": {
    "tags": []
   },
   "outputs": [
    {
     "output_type": "stream",
     "name": "stdout",
     "text": [
      "n\n"
     ]
    }
   ],
   "source": [
    "\n",
    "\n",
    "# getting last character of the string by reverse indexing (starts with index value -1)\n",
    "print(str3[-1])"
   ]
  },
  {
   "cell_type": "code",
   "execution_count": 15,
   "metadata": {
    "tags": []
   },
   "outputs": [
    {
     "output_type": "stream",
     "name": "stdout",
     "text": [
      "You are le\n"
     ]
    }
   ],
   "source": [
    "# getting a slice upto 10th index\n",
    "print(str3[:10])"
   ]
  },
  {
   "cell_type": "code",
   "execution_count": 16,
   "metadata": {
    "tags": []
   },
   "outputs": [
    {
     "output_type": "stream",
     "name": "stdout",
     "text": [
      " are lear\n"
     ]
    }
   ],
   "source": [
    "# getting a slice from 3-12th index\n",
    "print(str3[3:12])"
   ]
  },
  {
   "cell_type": "code",
   "execution_count": 17,
   "metadata": {
    "tags": []
   },
   "outputs": [
    {
     "output_type": "stream",
     "name": "stdout",
     "text": [
      "Python\n"
     ]
    }
   ],
   "source": [
    "# getting a the word \"Python\" as a slice with reverse indexing\n",
    "print(str3[-6:])"
   ]
  },
  {
   "cell_type": "markdown",
   "metadata": {},
   "source": [
    "__(d). Concatenation__ - Concatenation means addition of 2 strings, or in other words, joining two strings. The following is the syntax-\n",
    "> concat_str = string1 + string2"
   ]
  },
  {
   "cell_type": "code",
   "execution_count": 18,
   "metadata": {
    "tags": []
   },
   "outputs": [
    {
     "output_type": "stream",
     "name": "stdout",
     "text": [
      "Machine learning is fun.\n"
     ]
    }
   ],
   "source": [
    "# example 1- Concatenating/adding 2 strings\n",
    "str1 = 'Machine learning '\n",
    "str2 = 'is fun.'\n",
    "\n",
    "# concatenating str1 and str2 into str3\n",
    "str3 = str1 + str2\n",
    "print(str3)"
   ]
  },
  {
   "cell_type": "code",
   "execution_count": 19,
   "metadata": {
    "tags": []
   },
   "outputs": [
    {
     "output_type": "stream",
     "name": "stdout",
     "text": [
      "Machine learning and Python are fun.\n"
     ]
    }
   ],
   "source": [
    "# example 2- Concatenating more than 2 strings\n",
    "str1 = 'Machine learning '\n",
    "str2 = 'and Python '\n",
    "str3 = 'are fun.'\n",
    "\n",
    "# adding str1, str2, str3 and storing the result in variable str1\n",
    "str1 = str1 + str2 + str3\n",
    "print(str1)"
   ]
  },
  {
   "cell_type": "markdown",
   "metadata": {},
   "source": [
    "__(e). Immutability__ - As we read earlier, strings are immutable. This means that if you try to reassign an item from the string, it will result in an error. The following example demonstrates the immutability of strings. "
   ]
  },
  {
   "cell_type": "code",
   "execution_count": 20,
   "metadata": {},
   "outputs": [
    {
     "output_type": "error",
     "ename": "TypeError",
     "evalue": "'str' object does not support item assignment",
     "traceback": [
      "\u001b[0;31m---------------------------------------------------------------------------\u001b[0m",
      "\u001b[0;31mTypeError\u001b[0m                                 Traceback (most recent call last)",
      "\u001b[0;32m<ipython-input-20-95a598817841>\u001b[0m in \u001b[0;36m<module>\u001b[0;34m\u001b[0m\n\u001b[1;32m      2\u001b[0m \u001b[0;34m\u001b[0m\u001b[0m\n\u001b[1;32m      3\u001b[0m \u001b[0;31m# reassigning character at index 0\u001b[0m\u001b[0;34m\u001b[0m\u001b[0;34m\u001b[0m\u001b[0;34m\u001b[0m\u001b[0m\n\u001b[0;32m----> 4\u001b[0;31m \u001b[0mstr4\u001b[0m\u001b[0;34m[\u001b[0m\u001b[0;36m0\u001b[0m\u001b[0;34m]\u001b[0m \u001b[0;34m=\u001b[0m \u001b[0;34m'a'\u001b[0m\u001b[0;34m\u001b[0m\u001b[0;34m\u001b[0m\u001b[0m\n\u001b[0m",
      "\u001b[0;31mTypeError\u001b[0m: 'str' object does not support item assignment"
     ]
    }
   ],
   "source": [
    "str4 = 'Immutable'\n",
    "\n",
    "# reassigning character at index 0\n",
    "str4[0] = 'a'"
   ]
  },
  {
   "cell_type": "markdown",
   "metadata": {},
   "source": [
    "### C. Lists\n",
    "---\n",
    "Now, let us have a look at the list data type in Python. This is one of the most important data types in Python. \n",
    "\n",
    "__NOTE__ - Lists are mutable. This means that once you have declared a string, you can easily reassign the list items a new value.\n",
    "\n",
    "We will understand in this section how to declare a Python list along with different list manipulation methods. \n",
    "\n",
    "__(a). Declaring a list__ - "
   ]
  },
  {
   "cell_type": "code",
   "execution_count": 21,
   "metadata": {
    "tags": []
   },
   "outputs": [
    {
     "output_type": "stream",
     "name": "stdout",
     "text": [
      "[1, 2, 3, 4, 5, 6]\n"
     ]
    }
   ],
   "source": [
    "# list of integers\n",
    "list1 = [1, 2, 3, 4, 5, 6]\n",
    "print(list1)"
   ]
  },
  {
   "cell_type": "code",
   "execution_count": 22,
   "metadata": {
    "tags": []
   },
   "outputs": [
    {
     "output_type": "stream",
     "name": "stdout",
     "text": [
      "[1.2, 2.3, 3.1, 4.8, 5.9, 6.3]\n"
     ]
    }
   ],
   "source": [
    "# list of floats\n",
    "list2 = [1.2, 2.3, 3.1, 4.8, 5.9, 6.3]\n",
    "print(list2)"
   ]
  },
  {
   "cell_type": "markdown",
   "metadata": {},
   "source": [
    "Similarly, you can make a list of a lot of other data types. You can make a list of strings, dictionaries, functions, etc. We can even make lists with multiple different data types."
   ]
  },
  {
   "cell_type": "code",
   "execution_count": 23,
   "metadata": {
    "tags": []
   },
   "outputs": [
    {
     "output_type": "stream",
     "name": "stdout",
     "text": [
      "['This', 3, 5.6, [1, 2, 3]]\n[[1, 2, 3], [4, 5, 6], [7, 8, 9]]\n"
     ]
    }
   ],
   "source": [
    "# list with multiple data types\n",
    "list3 = ['This', 3, 5.6, [1,2,3]]\n",
    "print(list3)\n",
    "\n",
    "# list of lists\n",
    "list4 = [[1, 2, 3], [4, 5, 6], [7, 8, 9]]\n",
    "print(list4)"
   ]
  },
  {
   "cell_type": "markdown",
   "metadata": {},
   "source": [
    "__(b). Indexing and Slicing__ - The indexing and slicing in lists works the same way as in strings."
   ]
  },
  {
   "cell_type": "code",
   "execution_count": 24,
   "metadata": {
    "tags": []
   },
   "outputs": [
    {
     "output_type": "stream",
     "name": "stdout",
     "text": [
      "3\n"
     ]
    }
   ],
   "source": [
    "list1 = [1, 2, 3, 4, 5, 6, 8, 9, 10, 11]\n",
    "\n",
    "# printing element at index 2\n",
    "print(list1[2])"
   ]
  },
  {
   "cell_type": "code",
   "execution_count": 25,
   "metadata": {
    "tags": []
   },
   "outputs": [
    {
     "output_type": "stream",
     "name": "stdout",
     "text": [
      "[1, 2, 3, 4]\n"
     ]
    }
   ],
   "source": [
    "# slicing list from element 0-4\n",
    "print(list1[:4])"
   ]
  },
  {
   "cell_type": "markdown",
   "metadata": {},
   "source": [
    "Now, let us see how to obtain a certain element from a list of list."
   ]
  },
  {
   "cell_type": "code",
   "execution_count": 26,
   "metadata": {
    "tags": []
   },
   "outputs": [
    {
     "output_type": "stream",
     "name": "stdout",
     "text": [
      "8\n"
     ]
    }
   ],
   "source": [
    "# declaring a list of list\n",
    "list4 = [[1, 2, 3], [4, 5, 6], [7, 8, 9]]\n",
    "\n",
    "# obtaining 8 from the list: 1st-index element in sublist at 2nd index in list4\n",
    "print(list4[2][1])"
   ]
  },
  {
   "cell_type": "code",
   "execution_count": 27,
   "metadata": {
    "tags": []
   },
   "outputs": [
    {
     "output_type": "stream",
     "name": "stdout",
     "text": [
      "s\n"
     ]
    }
   ],
   "source": [
    "list3 = ['This', 3, 5.6, [1,2,3]]\n",
    "\n",
    "# getting 's' from the list\n",
    "print(list3[0][3])"
   ]
  },
  {
   "cell_type": "markdown",
   "metadata": {},
   "source": [
    "__(c). Mutability (Changing element at a certain index)__ - In order to change an element at a certain index within the list, you follow the following syntax-\n",
    "> list_name\\[index] = new_value, where,\n",
    "* index -> The index at which you want to change the value\n",
    "* new_value -> The value that you want to replace the old value with "
   ]
  },
  {
   "cell_type": "code",
   "execution_count": 28,
   "metadata": {
    "tags": []
   },
   "outputs": [
    {
     "output_type": "stream",
     "name": "stdout",
     "text": [
      "['This', 'is', 'a', 'list']\n"
     ]
    }
   ],
   "source": [
    "list3 = ['This', 3, 5.6, [1,2,3]]\n",
    "list3[1] = 'is'\n",
    "list3[2] = 'a'\n",
    "list3[3] = 'list'\n",
    "\n",
    "# printing the modified list\n",
    "print(list3)"
   ]
  },
  {
   "cell_type": "markdown",
   "metadata": {},
   "source": [
    "__(d). Adding elements to a list__ - In order to add elements to a list, we use the append() and insert() list methods. \n",
    "> 1. __list_name.append(element)__ : Used to add elements to the end of the list. Here, \n",
    "    * list_name -> List that you want to append the element to\n",
    "    * element -> The element that you want to append to the list\n",
    "\n",
    "> 2. __list_name.insert(index, element)__ : Used to insert an element in a list at a given index. Here,\n",
    "    * index -> Index that you want to add the element at\n",
    "    * element -> The element that you want to insert at the given index"
   ]
  },
  {
   "cell_type": "code",
   "execution_count": 29,
   "metadata": {
    "tags": []
   },
   "outputs": [
    {
     "output_type": "stream",
     "name": "stdout",
     "text": [
      "[11]\n"
     ]
    }
   ],
   "source": [
    "# declaring an empty list\n",
    "list1 = []\n",
    "\n",
    "# adding an element via append method\n",
    "list1.append(11)\n",
    "print(list1)"
   ]
  },
  {
   "cell_type": "code",
   "execution_count": 30,
   "metadata": {
    "tags": []
   },
   "outputs": [
    {
     "output_type": "stream",
     "name": "stdout",
     "text": [
      "[1, 2, 3, 'new element', 4, 5, 6, 7, 8, 9, 10, 11]\n"
     ]
    }
   ],
   "source": [
    "list1 = [1, 2, 3, 4, 5, 6, 7, 8, 9, 10, 11]\n",
    "\n",
    "# inserting element at index 3\n",
    "list1.insert(3, 'new element')\n",
    "print(list1)"
   ]
  },
  {
   "cell_type": "markdown",
   "metadata": {},
   "source": [
    "__(d). Removing elements from a list__ - In order to remove elements from a list, we use the pop() and remove() list methods. \n",
    "> 1. __list_name.remove(element)__ : The remove method removes the given element from the list. *If the element doesn't exist within the array, you will get an error*. Here, \n",
    "    * list_name -> List that you want to remove the element from\n",
    "    * element -> The element that you want to remove from the list\n",
    "\n",
    "> 2. __list_name.pop(index)__ : The pop method removes the element at the given index from the list and returns it. Here,\n",
    "    * index -> Index that you want to 'pop' the element at"
   ]
  },
  {
   "cell_type": "code",
   "execution_count": 31,
   "metadata": {
    "tags": []
   },
   "outputs": [
    {
     "output_type": "stream",
     "name": "stdout",
     "text": [
      "[1, 2, 3, 4, 5, 6, 8, 9, 10, 11]\n"
     ]
    }
   ],
   "source": [
    "list1 = [1, 2, 3, 4, 5, 6, 7, 8, 9, 10, 11]\n",
    "\n",
    "# removing 7 from the list\n",
    "list1.remove(7)\n",
    "print(list1) "
   ]
  },
  {
   "cell_type": "code",
   "execution_count": 32,
   "metadata": {
    "tags": []
   },
   "outputs": [
    {
     "output_type": "stream",
     "name": "stdout",
     "text": [
      "6\n[1, 2, 3, 4, 5, 8, 9, 10, 11]\n"
     ]
    }
   ],
   "source": [
    "# removing an printing element at index 5\n",
    "print(list1.pop(5))\n",
    "\n",
    "# printing updated list \n",
    "print(list1)"
   ]
  },
  {
   "cell_type": "markdown",
   "metadata": {},
   "source": [
    "__(d). Sorting a list__ - Sorting a list means arranging the elements in the list in the ascending or descending order. For sorting, we use the sort() list method. The following is the syntax-\n",
    "\n",
    "> * Ascending order-\n",
    ">> list_name.sort()\n",
    "\n",
    "> * Descending order-\n",
    ">> list_name.sort(reverse = True)"
   ]
  },
  {
   "cell_type": "code",
   "execution_count": 33,
   "metadata": {
    "tags": []
   },
   "outputs": [
    {
     "output_type": "stream",
     "name": "stdout",
     "text": [
      "[1, 2, 2, 3, 4, 4, 5, 6, 7, 8, 9, 10]\n"
     ]
    }
   ],
   "source": [
    "list1 = [1,5,3,2,9,7,6,4,8,4,2,10]\n",
    "\n",
    "# soring in ascending order\n",
    "list1.sort()\n",
    "print(list1)"
   ]
  },
  {
   "cell_type": "code",
   "execution_count": 34,
   "metadata": {
    "tags": []
   },
   "outputs": [
    {
     "output_type": "stream",
     "name": "stdout",
     "text": [
      "[10, 9, 8, 7, 6, 5, 4, 4, 3, 2, 2, 1]\n"
     ]
    }
   ],
   "source": [
    "list1 = [1,5,3,2,9,7,6,4,8,4,2,10]\n",
    "\n",
    "# soring in descending order\n",
    "list1.sort(reverse = True)\n",
    "print(list1)"
   ]
  },
  {
   "cell_type": "markdown",
   "metadata": {},
   "source": [
    "With this, we have covered some of the most useful list methods. Before we move ahead to any other data type, let us first cover an important concept in Python known as type-casting.\n",
    "\n",
    "### D. Typecasting\n",
    "---\n",
    "Type-casting, as the name suggest, refers to casting one data type into other. The following is the syntax to perform typecasting-\n",
    "> new_var = data_type(var), where,\n",
    "* new_var -> New variable\n",
    "* data_type -> The new data type you want to cast the variable to\n",
    "* var -> The original variable  \n",
    "\n",
    "One thing to be noted is that it's not always possible to cast any existing data value into any other data type of your choice. \n",
    "\n",
    "Let us now see some examples of typecasting."
   ]
  },
  {
   "cell_type": "code",
   "execution_count": 35,
   "metadata": {
    "tags": []
   },
   "outputs": [
    {
     "output_type": "stream",
     "name": "stdout",
     "text": [
      "<class 'int'>\n4.0\n<class 'float'>\n"
     ]
    }
   ],
   "source": [
    "var = 4 # integer\n",
    "print(type(var)) # printing data type of var \n",
    "\n",
    "var = float(var) # typecasting var into a float \n",
    "print(var)\n",
    "print(type(var)) # printing data type of var"
   ]
  },
  {
   "cell_type": "markdown",
   "metadata": {},
   "source": [
    "Typecasting a string will convert it into a list of seperate characters"
   ]
  },
  {
   "cell_type": "code",
   "execution_count": 36,
   "metadata": {
    "tags": []
   },
   "outputs": [
    {
     "output_type": "stream",
     "name": "stdout",
     "text": [
      "<class 'str'>\n['p', 'y', 't', 'h', 'o', 'n']\n<class 'list'>\n"
     ]
    }
   ],
   "source": [
    "var = 'python' # string\n",
    "print(type(var)) # printing data type of var\n",
    "\n",
    "var = list(var) # typecasting var into a float \n",
    "print(var)\n",
    "print(type(var)) # printing data type of var"
   ]
  },
  {
   "cell_type": "markdown",
   "metadata": {},
   "source": [
    "Typecasting a string to a numeric data type will throw an error."
   ]
  },
  {
   "cell_type": "code",
   "execution_count": 37,
   "metadata": {},
   "outputs": [
    {
     "output_type": "error",
     "ename": "ValueError",
     "evalue": "invalid literal for int() with base 10: 'a'",
     "traceback": [
      "\u001b[0;31m---------------------------------------------------------------------------\u001b[0m",
      "\u001b[0;31mValueError\u001b[0m                                Traceback (most recent call last)",
      "\u001b[0;32m<ipython-input-37-8e7fa58767be>\u001b[0m in \u001b[0;36m<module>\u001b[0;34m\u001b[0m\n\u001b[1;32m      1\u001b[0m \u001b[0mvar\u001b[0m \u001b[0;34m=\u001b[0m \u001b[0;34m'a'\u001b[0m \u001b[0;31m# string\u001b[0m\u001b[0;34m\u001b[0m\u001b[0;34m\u001b[0m\u001b[0m\n\u001b[0;32m----> 2\u001b[0;31m \u001b[0mvar\u001b[0m \u001b[0;34m=\u001b[0m \u001b[0mint\u001b[0m\u001b[0;34m(\u001b[0m\u001b[0mvar\u001b[0m\u001b[0;34m)\u001b[0m \u001b[0;31m# typecasting var into a float\u001b[0m\u001b[0;34m\u001b[0m\u001b[0;34m\u001b[0m\u001b[0m\n\u001b[0m",
      "\u001b[0;31mValueError\u001b[0m: invalid literal for int() with base 10: 'a'"
     ]
    }
   ],
   "source": [
    "var = 'a' # string\n",
    "var = int(var) # typecasting var into a float "
   ]
  },
  {
   "cell_type": "markdown",
   "metadata": {},
   "source": [
    "Similarly, you can perform many other typcasting operations, such as \n",
    "* float <-> int \n",
    "* float, int -> str\n",
    "* list <-> set, etc."
   ]
  },
  {
   "cell_type": "markdown",
   "metadata": {},
   "source": [
    "Now that we have covered the concept of typecasting, let us move on to another important data type in python.\n",
    "\n",
    "### E. Dictionaries\n",
    "---\n",
    "\n",
    "Dictionaries are the mapping-style data structure in Python. What mapping means is that you assign/connect a particular value to some other value, known as the key. Then, in order to retrieve the value, you just need to search for it using its key.\n",
    "\n",
    "__NOTE__ - Dictionaries are mutable.\n",
    "\n",
    "Dictionaries in Python work on the same principle. Dictionaries are used to store key-value pairs so that for each unique key, there exists only one value (can be a number, string, list, other dictionary, function, etc.)\n",
    "\n",
    "__(a). Dictionary creation and manipulation__ - The following is the syntax to create a dictionary-\n",
    "> dict_name = {key_1: value_1, key_2: value_2....., key_n: value_n}\n",
    "\n",
    "In order to retrieve the value stored at a key, we use the following syntax-\n",
    "> dict_name\\[key]\n",
    "\n",
    "Dictionaries are mutable. This means you can reassign a new value to a key within the dictionary. In order to change the value stored at a certain key, we use the following syntax-\n",
    "> dict_name\\[key] = new_value"
   ]
  },
  {
   "cell_type": "code",
   "execution_count": 38,
   "metadata": {
    "tags": []
   },
   "outputs": [
    {
     "output_type": "stream",
     "name": "stdout",
     "text": [
      "{'a': 1, 'b': 2, 'c': 3}\n"
     ]
    }
   ],
   "source": [
    "# creating a simple dictionary\n",
    "dict1 = {'a': 1, 'b': 2, 'c': 3}\n",
    "print(dict1)"
   ]
  },
  {
   "cell_type": "code",
   "execution_count": 39,
   "metadata": {
    "tags": []
   },
   "outputs": [
    {
     "output_type": "stream",
     "name": "stdout",
     "text": [
      "{1: ['a', 'b', 'c'], 'key2': 2, 3.4: 'a', 'c': {'language': 'python'}}\n"
     ]
    }
   ],
   "source": [
    "# keys and values can be anything\n",
    "dict2 = {1: ['a','b','c'], 'key2': 2, 3.4: 'a', 'c': {'language': 'python'} }\n",
    "print(dict2)"
   ]
  },
  {
   "cell_type": "code",
   "execution_count": 40,
   "metadata": {
    "tags": []
   },
   "outputs": [
    {
     "output_type": "stream",
     "name": "stdout",
     "text": [
      "{'a': 1, 'b': 2, 'c': 3}\n{'a': 1, 'b': 1000, 'c': 3}\n1\n"
     ]
    }
   ],
   "source": [
    "dict3 = {'a': 1, 'b': 2, 'c': 3}\n",
    "print(dict3)\n",
    "\n",
    "# changing value for key = 'b'\n",
    "dict3['b'] = 1000\n",
    "print(dict3)\n",
    "\n",
    "# printing value at key = 'a'\n",
    "print(dict3['a'])"
   ]
  },
  {
   "cell_type": "markdown",
   "metadata": {},
   "source": [
    "__(b). Getting the list of keys__ - In order to get the list of all the keys within a list, you can use the keys() method."
   ]
  },
  {
   "cell_type": "code",
   "execution_count": 41,
   "metadata": {
    "tags": []
   },
   "outputs": [
    {
     "output_type": "stream",
     "name": "stdout",
     "text": [
      "dict_keys(['a', 'b', 'c'])\n"
     ]
    }
   ],
   "source": [
    "dict3 = {'a': 1, 'b': 2, 'c': 3}\n",
    "\n",
    "# getting list of all keys\n",
    "print(dict3.keys())"
   ]
  },
  {
   "cell_type": "markdown",
   "metadata": {},
   "source": [
    "__(c). Getting the list of values__ - In order to get the list of all the values stored within a list, you can use the values() method."
   ]
  },
  {
   "cell_type": "code",
   "execution_count": 42,
   "metadata": {
    "tags": []
   },
   "outputs": [
    {
     "output_type": "stream",
     "name": "stdout",
     "text": [
      "dict_values([1, 2, 3])\n"
     ]
    }
   ],
   "source": [
    "dict3 = {'a': 1, 'b': 2, 'c': 3}\n",
    "\n",
    "# getting list of all values\n",
    "print(dict3.values())"
   ]
  },
  {
   "cell_type": "markdown",
   "metadata": {},
   "source": [
    "### F. Tuples\n",
    "---\n",
    "Tuples are similar to lists. The only major difference between lists and tuples is that tuples are immutable. This means that once a tuple is declared, item reassignment is not valid and if tried, will result in an error. \n",
    "\n",
    "__(a). Declaring a tuple__ - The following is the syntax for declaring a tuple-\n",
    "> tuple_name = (item_1, item_2, ....., item_n)\n"
   ]
  },
  {
   "cell_type": "code",
   "execution_count": 43,
   "metadata": {
    "tags": []
   },
   "outputs": [
    {
     "output_type": "stream",
     "name": "stdout",
     "text": [
      "(1, 2, 3, 4, 5)\n"
     ]
    }
   ],
   "source": [
    "# declaring a tuple\n",
    "tup1 = (1, 2, 3, 4, 5)\n",
    "\n",
    "print(tup1)"
   ]
  },
  {
   "cell_type": "markdown",
   "metadata": {},
   "source": [
    "__(b). Common tuple operations__ - "
   ]
  },
  {
   "cell_type": "code",
   "execution_count": 44,
   "metadata": {
    "tags": []
   },
   "outputs": [
    {
     "output_type": "stream",
     "name": "stdout",
     "text": [
      "2\n"
     ]
    }
   ],
   "source": [
    "#printing value at index 1\n",
    "print(tup1[1])"
   ]
  },
  {
   "cell_type": "code",
   "execution_count": 45,
   "metadata": {
    "tags": []
   },
   "outputs": [
    {
     "output_type": "stream",
     "name": "stdout",
     "text": [
      "(3, 4, 5, 6, 7, 8)\n"
     ]
    }
   ],
   "source": [
    "# slicing a tuple\n",
    "tup2 = (1,2,3,4,5,6,7,8,9,10)\n",
    "\n",
    "tup_slice = tup2[2:8]\n",
    "print(tup_slice)"
   ]
  },
  {
   "cell_type": "markdown",
   "metadata": {},
   "source": [
    "__(c). Immutability__ - We read earlier that tuples are immutable. Now, let us see what happens when you try to reassign a tuple item. The expected behaviour, since a tuple is immutable is that there will be an error."
   ]
  },
  {
   "cell_type": "code",
   "execution_count": 46,
   "metadata": {},
   "outputs": [
    {
     "output_type": "error",
     "ename": "TypeError",
     "evalue": "'tuple' object does not support item assignment",
     "traceback": [
      "\u001b[0;31m---------------------------------------------------------------------------\u001b[0m",
      "\u001b[0;31mTypeError\u001b[0m                                 Traceback (most recent call last)",
      "\u001b[0;32m<ipython-input-46-9152b6ba6feb>\u001b[0m in \u001b[0;36m<module>\u001b[0;34m\u001b[0m\n\u001b[1;32m      1\u001b[0m \u001b[0;31m# reassigning value at index 4\u001b[0m\u001b[0;34m\u001b[0m\u001b[0;34m\u001b[0m\u001b[0;34m\u001b[0m\u001b[0m\n\u001b[0;32m----> 2\u001b[0;31m \u001b[0mtup2\u001b[0m\u001b[0;34m[\u001b[0m\u001b[0;36m4\u001b[0m\u001b[0;34m]\u001b[0m \u001b[0;34m=\u001b[0m \u001b[0;36m1000\u001b[0m\u001b[0;34m\u001b[0m\u001b[0;34m\u001b[0m\u001b[0m\n\u001b[0m",
      "\u001b[0;31mTypeError\u001b[0m: 'tuple' object does not support item assignment"
     ]
    }
   ],
   "source": [
    "# reassigning value at index 4\n",
    "tup2[4] = 1000"
   ]
  },
  {
   "cell_type": "markdown",
   "metadata": {},
   "source": [
    "### G. Sets\n",
    "---\n",
    "\n",
    "Sets are another list-like built-in data structures in Python, with a very unique property that sets it apart from list and tuples— Sets do not allow duplicates or repetition, i.e., an element can appear only once within the list. \n",
    "\n",
    "__(a). Declaring a set__ - The following is the syntax for declaring a set in Python-\n",
    "> set_name = {item_1, item_2, ....., item_3}"
   ]
  },
  {
   "cell_type": "code",
   "execution_count": 47,
   "metadata": {
    "tags": []
   },
   "outputs": [
    {
     "output_type": "stream",
     "name": "stdout",
     "text": [
      "{1, 2, 3, 4, 6}\n"
     ]
    }
   ],
   "source": [
    "# declaring a set\n",
    "set1 = {1,4,3,2,6}\n",
    "print(set1)"
   ]
  },
  {
   "cell_type": "markdown",
   "metadata": {},
   "source": [
    "__(b). No repetition__ - All elements in a set must be unique. This means that is there are repeated elements in a set, they will be automatically removed from the set. The following example demonstrates it."
   ]
  },
  {
   "cell_type": "code",
   "execution_count": 48,
   "metadata": {
    "tags": []
   },
   "outputs": [
    {
     "output_type": "stream",
     "name": "stdout",
     "text": [
      "{1, 2, 3, 5, 6, 7, 8, 9}\n"
     ]
    }
   ],
   "source": [
    "# duplicate elements are automatically removed\n",
    "set2 = {1, 1, 3, 5, 5, 5, 7, 7, 6, 8, 8, 2, 9} # 1,5,7,8 are repetitive\n",
    "print(set2)"
   ]
  },
  {
   "cell_type": "markdown",
   "metadata": {},
   "source": [
    "__(c). Non-subscriptable__- Sets are not subscriptable. This means that you can't retrieve an element at a certain index. In fact, the elements in a set are not indexed. Therefore, it is not necessary that the elements in a set will appear in the same order as you assigned them at the time of declaring the set."
   ]
  },
  {
   "cell_type": "code",
   "execution_count": 49,
   "metadata": {},
   "outputs": [
    {
     "output_type": "error",
     "ename": "TypeError",
     "evalue": "'set' object is not subscriptable",
     "traceback": [
      "\u001b[0;31m---------------------------------------------------------------------------\u001b[0m",
      "\u001b[0;31mTypeError\u001b[0m                                 Traceback (most recent call last)",
      "\u001b[0;32m<ipython-input-49-12f9c8d76d76>\u001b[0m in \u001b[0;36m<module>\u001b[0;34m\u001b[0m\n\u001b[1;32m      1\u001b[0m \u001b[0;31m# printing element at index 0; will throw an error\u001b[0m\u001b[0;34m\u001b[0m\u001b[0;34m\u001b[0m\u001b[0;34m\u001b[0m\u001b[0m\n\u001b[0;32m----> 2\u001b[0;31m \u001b[0mprint\u001b[0m\u001b[0;34m(\u001b[0m\u001b[0mset2\u001b[0m\u001b[0;34m[\u001b[0m\u001b[0;36m0\u001b[0m\u001b[0;34m]\u001b[0m\u001b[0;34m)\u001b[0m\u001b[0;34m\u001b[0m\u001b[0;34m\u001b[0m\u001b[0m\n\u001b[0m",
      "\u001b[0;31mTypeError\u001b[0m: 'set' object is not subscriptable"
     ]
    }
   ],
   "source": [
    "# printing element at index 0; will throw an error\n",
    "print(set2[0])"
   ]
  },
  {
   "cell_type": "markdown",
   "metadata": {},
   "source": [
    "### H. Range\n",
    "---\n",
    "__range__ is a built-in Python function that returns an immutable numeric sequence, starting with a default value of 0, with a default step size of 1, going all the way upto the step before the mentioned upper limit. The following is the syntax to use the range function.\n",
    "\n",
    "> range(lower=0, uppen=n, step=1)\n",
    ">> Here, \n",
    "* lower: The lower bound of the range\n",
    "* upper: The upper bound of the range\n",
    "* step: size of the step, i.e., the number of elements the function will jump each time."
   ]
  },
  {
   "cell_type": "code",
   "execution_count": 64,
   "metadata": {},
   "outputs": [
    {
     "output_type": "execute_result",
     "data": {
      "text/plain": [
       "[0, 2, 4, 6, 8, 10]"
      ]
     },
     "metadata": {},
     "execution_count": 64
    }
   ],
   "source": [
    "list(range(0,12,2))"
   ]
  },
  {
   "cell_type": "markdown",
   "metadata": {},
   "source": [
    "### I. Booleans\n",
    "---\n",
    "Booleans are one of the most crucial data types in any programming language. From the logical point of view in programming, either a statement can be \"True\" or \"False\". Booleans are used to indicate whether a condition or a statement is true or not. There are 2 possible boolean values in Python-\n",
    "\n",
    "> If the condition is true- __True__\n",
    "\n",
    "> If the condition is false- __False__\n"
   ]
  },
  {
   "cell_type": "code",
   "execution_count": 50,
   "metadata": {
    "tags": []
   },
   "outputs": [
    {
     "output_type": "stream",
     "name": "stdout",
     "text": [
      "True\n"
     ]
    }
   ],
   "source": [
    "a = True\n",
    "print(a)"
   ]
  },
  {
   "cell_type": "code",
   "execution_count": 51,
   "metadata": {
    "tags": []
   },
   "outputs": [
    {
     "output_type": "stream",
     "name": "stdout",
     "text": [
      "False\n"
     ]
    }
   ],
   "source": [
    "b = False\n",
    "print(b)"
   ]
  },
  {
   "cell_type": "markdown",
   "metadata": {},
   "source": [
    "We will learn about the use of Booleans in detail in the next tutorial where we will be discussing comparison & logical operators, conditional statements and loops in Python.\n",
    "\n",
    "With this, we come to the end of the first part of our Python tutorial. As a quick summary, in this tutorial, we have covered all the basic built-in data types in Python. "
   ]
  },
  {
   "cell_type": "markdown",
   "metadata": {},
   "source": [
    "## BONUS SECTION-\n",
    "---\n",
    "\n",
    "### 1. Printing in Python\n",
    " \n",
    "In this Python crash course bonus section, we will learn the different ways how we can use the print() function in Python.\n",
    "\n",
    "#### Method-1: Printing a variable\n",
    "In order to print a variable in python, we use the following syntax-\n",
    "> print(variable), where, \n",
    "* variable -> Can be any variable, with any data type as its value"
   ]
  },
  {
   "cell_type": "code",
   "execution_count": 52,
   "metadata": {
    "tags": []
   },
   "outputs": [
    {
     "output_type": "stream",
     "name": "stdout",
     "text": [
      "[1, 2, 3, 4]\n"
     ]
    }
   ],
   "source": [
    "var1 = [1,2,3,4]\n",
    "print(var1)"
   ]
  },
  {
   "cell_type": "code",
   "execution_count": 53,
   "metadata": {
    "tags": []
   },
   "outputs": [
    {
     "output_type": "stream",
     "name": "stdout",
     "text": [
      "This is a string\n"
     ]
    }
   ],
   "source": [
    "var2 = 'This is a string'\n",
    "print(var2)"
   ]
  },
  {
   "cell_type": "code",
   "execution_count": 54,
   "metadata": {
    "tags": []
   },
   "outputs": [
    {
     "output_type": "stream",
     "name": "stdout",
     "text": [
      "True\n"
     ]
    }
   ],
   "source": [
    "var3 = True\n",
    "print(var3)"
   ]
  },
  {
   "cell_type": "markdown",
   "metadata": {},
   "source": [
    "#### Method-2: Printing multiple variables\n",
    "In order to print multiple variables at the same time in python, we seperate them with commas within the print statement.\n",
    "\n",
    "We use the following syntax-\n",
    "> print(var_1, var_2, ...., var_n), where, \n",
    "* var_i -> Can be any variable, with any data type as its value\n",
    "\n",
    "This method prints all the variable with a 'space' between them."
   ]
  },
  {
   "cell_type": "code",
   "execution_count": 55,
   "metadata": {
    "tags": []
   },
   "outputs": [
    {
     "output_type": "stream",
     "name": "stdout",
     "text": [
      "I have 4 apples.\n"
     ]
    }
   ],
   "source": [
    "a = 'I have' # string\n",
    "b = 4 # integer\n",
    "c = 'apples.' # string\n",
    "\n",
    "# printing all variables at once\n",
    "print(a, b, c)"
   ]
  },
  {
   "cell_type": "code",
   "execution_count": 56,
   "metadata": {
    "tags": []
   },
   "outputs": [
    {
     "output_type": "stream",
     "name": "stdout",
     "text": [
      "Number of apples = 4\n"
     ]
    }
   ],
   "source": [
    "a = 'Number of apples ='\n",
    "b = 4\n",
    "\n",
    "print(a,b)"
   ]
  },
  {
   "cell_type": "markdown",
   "metadata": {},
   "source": [
    "#### Method-3: Printing unassigned values\n",
    "In order to print a value, it's not necessary to store it into a variable. You can directly print a value without assignment.\n",
    "\n",
    "The following is the syntax-\n",
    "> print(value), where, \n",
    "* value -> Any unassigned data\n",
    "\n",
    "Let us see some example that will help us understand better."
   ]
  },
  {
   "cell_type": "code",
   "execution_count": 57,
   "metadata": {
    "tags": []
   },
   "outputs": [
    {
     "output_type": "stream",
     "name": "stdout",
     "text": [
      "9\n"
     ]
    }
   ],
   "source": [
    "print(4 + 5)"
   ]
  },
  {
   "cell_type": "code",
   "execution_count": 58,
   "metadata": {
    "tags": []
   },
   "outputs": [
    {
     "output_type": "stream",
     "name": "stdout",
     "text": [
      "This string is not assigned to a variable/constant\n"
     ]
    }
   ],
   "source": [
    "print('This string is not assigned to a variable/constant')"
   ]
  },
  {
   "cell_type": "code",
   "execution_count": 59,
   "metadata": {
    "tags": []
   },
   "outputs": [
    {
     "output_type": "stream",
     "name": "stdout",
     "text": [
      "[1, 2, 3, 4]\n"
     ]
    }
   ],
   "source": [
    "print([1,2,3,4])"
   ]
  },
  {
   "cell_type": "code",
   "execution_count": 60,
   "metadata": {
    "tags": []
   },
   "outputs": [
    {
     "output_type": "stream",
     "name": "stdout",
     "text": [
      "I have 2 pens.\n"
     ]
    }
   ],
   "source": [
    "print('I have', 2, 'pens.')"
   ]
  },
  {
   "cell_type": "markdown",
   "metadata": {},
   "source": [
    "__Method 4: format() method and placeholders__\n",
    "\n",
    "Placeholders, in terms of simple English can be defined a place that we have assigned for something. Similarly for the print operation in Python, we assign placeholders to certain values or variables in the print method. The variables are then assigned to their respective placeholders using the format() method. You will better understand this with the help of an example. \n"
   ]
  },
  {
   "cell_type": "code",
   "execution_count": 61,
   "metadata": {
    "tags": []
   },
   "outputs": [
    {
     "output_type": "stream",
     "name": "stdout",
     "text": [
      "I have 4 apples and my friend has 7 oranges\n"
     ]
    }
   ],
   "source": [
    "a = 4\n",
    "b = 7\n",
    "\n",
    "print(\"I have {} apples and my friend has {} oranges\".format(a,b))"
   ]
  },
  {
   "cell_type": "markdown",
   "metadata": {},
   "source": [
    "Placeholders are denoted with **{ }** and then in order to place variables/values in the placeholders, provide the variable as arguments to the format() method in the order that you want them to fill the placeholders."
   ]
  },
  {
   "cell_type": "code",
   "execution_count": 62,
   "metadata": {
    "tags": []
   },
   "outputs": [
    {
     "output_type": "stream",
     "name": "stdout",
     "text": [
      "My number is: 1, and my name is: Watson\n"
     ]
    }
   ],
   "source": [
    "num = 1\n",
    "name = 'Watson'\n",
    "\n",
    "print('My number is: {one}, and my name is: {two}'.format(one=num,two=name))"
   ]
  },
  {
   "cell_type": "markdown",
   "metadata": {},
   "source": [
    "__Method 5: Formatted strings and placeholders\n",
    "\n",
    "Instead of using format() method to fill in the placeholders (which can be confusing if you have too many placeholders), you can use formatted strings and place the variables right in their assigned placeholder itself. The following example demonstrates this."
   ]
  },
  {
   "cell_type": "code",
   "execution_count": 63,
   "metadata": {
    "tags": []
   },
   "outputs": [
    {
     "output_type": "stream",
     "name": "stdout",
     "text": [
      "I have 4 apples and my friend has 7 oranges\n"
     ]
    }
   ],
   "source": [
    "a = 4\n",
    "b = 7\n",
    "\n",
    "# f outside double quotes denotes formatted string\n",
    "print(f\"I have {a} apples and my friend has {b} oranges\")"
   ]
  }
 ]
}